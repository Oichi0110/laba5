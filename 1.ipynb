{
 "cells": [
  {
   "cell_type": "code",
   "execution_count": 6,
   "id": "b2fee377-b8c4-47f6-ab53-9b26196c20fc",
   "metadata": {},
   "outputs": [],
   "source": [
    "from IPython.core.interactiveshell import InteractiveShell\n",
    "InteractiveShell.asd_node_interactivity = \"all\""
   ]
  },
  {
   "cell_type": "code",
   "execution_count": 63,
   "id": "df77deba-655b-4f77-b683-123fdf849be5",
   "metadata": {},
   "outputs": [],
   "source": [
    "import numpy as np"
   ]
  },
  {
   "cell_type": "code",
   "execution_count": 82,
   "id": "c1efb0b3-4aff-4e29-9138-514cb9f1ca3a",
   "metadata": {},
   "outputs": [],
   "source": [
    "def isint(s):\n",
    "    try:\n",
    "        int(s)\n",
    "        return True\n",
    "    except(ValueError, TypeError):\n",
    "        return False"
   ]
  },
  {
   "cell_type": "markdown",
   "id": "9f618a67-cc04-4a08-a580-8b44e17d24bb",
   "metadata": {},
   "source": [
    "$$ Задание 1.1 $$\n",
    "Расчет по фомуле:  $z = -\\sqrt{x*a^3} + \\ln{|\\frac{(a - 1,12*x)}{4}|}$, при $a = 23,55$ и $x = 0,9$"
   ]
  },
  {
   "cell_type": "code",
   "execution_count": 96,
   "id": "c0cf6b1e-096a-4c9f-981c-f20a7210e0be",
   "metadata": {},
   "outputs": [
    {
     "name": "stdout",
     "output_type": "stream",
     "text": [
      "-107.669\n"
     ]
    }
   ],
   "source": [
    "a = 23.55\n",
    "x = 0.9\n",
    "z = -np.sqrt(x*a**3) + np.log10(np.abs((a - 1.12*x)/4))\n",
    "print(\"{:.3f}\" .format(z))"
   ]
  },
  {
   "cell_type": "markdown",
   "id": "4d740e03-9421-4bf1-99e0-c515d8007ec4",
   "metadata": {},
   "source": [
    "$$ Задание 1.2 $$\n",
    "Найти оценки уравнения регрессии, используя метод наименьших квадратов и матричную форму записи уравнений: $$ A = (X^T * X)^{-1} * (X^T * Y) $$"
   ]
  },
  {
   "cell_type": "code",
   "execution_count": 97,
   "id": "7d6b622b-3b25-4117-b6e5-ddeb31b2f837",
   "metadata": {},
   "outputs": [
    {
     "name": "stdin",
     "output_type": "stream",
     "text": [
      "N =  20\n"
     ]
    },
    {
     "name": "stdout",
     "output_type": "stream",
     "text": [
      "Матрица после вычисления: \n",
      " [[10.073]\n",
      " [ 0.086]\n",
      " [ 0.054]]\n",
      "Значение Y после формулы: \n",
      " [[16.501]\n",
      " [16.711]\n",
      " [15.489]\n",
      " [16.236]\n",
      " [15.699]\n",
      " [16.61 ]\n",
      " [16.688]\n",
      " [15.652]\n",
      " [16.182]\n",
      " [16.151]\n",
      " [15.653]\n",
      " [16.275]]\n",
      "Исходное значени Y: \n",
      " [[14.435]\n",
      " [17.248]\n",
      " [14.479]\n",
      " [14.39 ]\n",
      " [13.597]\n",
      " [16.199]\n",
      " [18.167]\n",
      " [17.171]\n",
      " [18.089]\n",
      " [17.111]\n",
      " [17.378]\n",
      " [15.581]]\n"
     ]
    }
   ],
   "source": [
    "x = np.zeros(shape=(12, 3), dtype=int)\n",
    "x[:, 0] = 1\n",
    "N = input(\"N = \")\n",
    "if isint(N):\n",
    "    N = int(N)\n",
    "    for i in range(12):\n",
    "        x[i, 1] = np.random.randint(N, N+12)\n",
    "        x[i, 2] = np.random.randint(60, 82)\n",
    "    Y = np.random.uniform(13.5, 18.6, 12).reshape(12, 1)\n",
    "    A = (np.linalg.matrix_power(np.transpose(x).dot(x), -1)).dot(np.transpose(x).dot(Y))\n",
    "    print(\"Матрица после вычисления: \\n\", A)\n",
    "    Z = A[0] * x[:, 0] + A[1] * x[:, 1] + A[2] * x[:, 2]\n",
    "    print(\"Значение Y после формулы: \\n\", Z.reshape(12, 1))\n",
    "    print(\"Исходное значени Y: \\n\", Y)\n",
    "else:\n",
    "    print(\"Введите целое число\")"
   ]
  }
 ],
 "metadata": {
  "kernelspec": {
   "display_name": "Python 3 (ipykernel)",
   "language": "python",
   "name": "python3"
  },
  "language_info": {
   "codemirror_mode": {
    "name": "ipython",
    "version": 3
   },
   "file_extension": ".py",
   "mimetype": "text/x-python",
   "name": "python",
   "nbconvert_exporter": "python",
   "pygments_lexer": "ipython3",
   "version": "3.10.6"
  }
 },
 "nbformat": 4,
 "nbformat_minor": 5
}
